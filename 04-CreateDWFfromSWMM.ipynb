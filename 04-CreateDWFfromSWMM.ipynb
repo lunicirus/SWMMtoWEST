{
 "cells": [
  {
   "cell_type": "markdown",
   "id": "cba1bf06-f054-4a9b-a50e-8ad8682cc3e1",
   "metadata": {},
   "source": [
    "# Convert the SWMM model values of DWF to the WEST model "
   ]
  },
  {
   "cell_type": "code",
   "execution_count": 1,
   "id": "ce34cbbf-889a-42b2-85c4-76fd22f89763",
   "metadata": {
    "tags": []
   },
   "outputs": [],
   "source": [
    "\n",
    "import SWMMToWESTConvert.aggregateNetwork as agN\n",
    "import SWMMToWESTConvert.updateWESTfiles as uw\n"
   ]
  },
  {
   "cell_type": "code",
   "execution_count": 2,
   "id": "70d6ef46-acc1-4b03-8df0-611483eab4d7",
   "metadata": {
    "tags": []
   },
   "outputs": [],
   "source": [
    "#MODEL points for checking the flow\n",
    "LIMOILOU_COL= \"RA_180174\" #\"DOM_941798\" pipe\n",
    "PASCAL_COL = \"U89A\" #\"U004\" pipe\n",
    "STSACRA_COL = \"R689587\" #\"UNI_602608\" pipe\n",
    "BEAU_COL = 'Pompe-Beauport'\n",
    "NOEST_COL= \"R016595\" #'U003_Nord_Ouest' pipe\n",
    "linkMeasurementFlow = [LIMOILOU_COL,BEAU_COL,STSACRA_COL,NOEST_COL,PASCAL_COL] #Change this to the nodes within the path\n",
    "\n",
    "WTP_TANK = \"RA_606859\"\n",
    "ST_SACR_LEAF_NODE= \"R006831\" #\"R007637\" previous assumption (and wrong)\n"
   ]
  },
  {
   "cell_type": "markdown",
   "id": "db39b379-058f-49c2-8b2c-1d27c8dddbaf",
   "metadata": {
    "tags": []
   },
   "source": [
    "# Get pipe sections from detailed model ------------------------"
   ]
  },
  {
   "cell_type": "code",
   "execution_count": 3,
   "id": "2c2f2c51",
   "metadata": {},
   "outputs": [
    {
     "name": "stdout",
     "output_type": "stream",
     "text": [
      "------------------------Getting the elements from the network ------------------------------------------------\n",
      "There were 17 subcatchments with area 0\n",
      "There were 0 DWFs with inflow type different than FLOW\n",
      "There were 0 DFs with other constituents than FLOW\n",
      "-------------------------------Obtaining and modelling the Trunk -------------------------------------------------\n",
      "There are 22 connections to the path\n",
      "1  relevant branches\n",
      "15  connections to the path to be converted into catchments\n",
      "4  points to break the path were found\n",
      "Number of resulting sections of the path 5\n",
      "----------------------------\n",
      "Final number of pipe sections  5\n",
      "Final number of catchments:  9\n",
      "Final number of tanks in series: 35\n",
      "-------------------------------Obtaining and converting the branches --------------------------------------------------\n",
      "--------------------------Obtaining and modelling branch  U004 -------------------------------------------\n",
      "There are 12 connections to the path\n",
      "2  relevant branches\n",
      "10  connections to the path to be converted into catchments\n",
      "2  points to break the path were found\n",
      "Number of resulting sections of the path 3\n",
      "----------------------------\n",
      "Final number of pipe sections  3\n",
      "Final number of catchments:  6\n",
      "Final number of tanks in series: 157\n"
     ]
    }
   ],
   "source": [
    "file = 'DWF2022.inp' \n",
    "\n",
    "#Links measurement are assumed to be discharging into the trunk path (not in it)\n",
    "trunkModels, branchesModels = agN.aggregateAndModelNetwork(file, WTP_TANK, linkMeasurementFlow,ST_SACR_LEAF_NODE)"
   ]
  },
  {
   "cell_type": "code",
   "execution_count": 3,
   "id": "f009dc47",
   "metadata": {},
   "outputs": [
    {
     "ename": "NameError",
     "evalue": "name 'branchesModels' is not defined",
     "output_type": "error",
     "traceback": [
      "\u001b[1;31m---------------------------------------------------------------------------\u001b[0m",
      "\u001b[1;31mNameError\u001b[0m                                 Traceback (most recent call last)",
      "Cell \u001b[1;32mIn[3], line 1\u001b[0m\n\u001b[1;32m----> 1\u001b[0m \u001b[43mbranchesModels\u001b[49m\n",
      "\u001b[1;31mNameError\u001b[0m: name 'branchesModels' is not defined"
     ]
    }
   ],
   "source": [
    "branchesModels"
   ]
  },
  {
   "cell_type": "markdown",
   "id": "671820f9-d346-40d2-bf56-21ec094cd300",
   "metadata": {},
   "source": [
    "# Start modifying WEST MODEL --------------------------"
   ]
  },
  {
   "cell_type": "code",
   "execution_count": 6,
   "id": "6dcecaaa-540f-4792-92ae-9c86d7b742f2",
   "metadata": {
    "tags": []
   },
   "outputs": [],
   "source": [
    "import SWMMToWESTConvert.SWMMtoWESTConstants as STW_C\n",
    "from SWMMToWESTConvert import updateWESTfiles as uf\n",
    "\n",
    "connProps = {}\n",
    "connProps[STW_C.VEL_MIN_CONN] = 18\n",
    "connProps[STW_C.VEL_CLASSES_CONN]=[23.6,47.2,65.8,141.5,283,565.9,800,943.2,1800,2829.6]\n",
    "\n",
    "connectorsDict = {}\n",
    "for b, indexes in zip(['Trunk','DOM_1631422'],[range(1,10),range(1,7)]):\n",
    "    connectors= []\n",
    "    for c in indexes:\n",
    "        connectors.append(connProps)\n",
    "    connectorsDict[b] = connectors\n",
    "\n",
    "\n",
    "#classes to be assigned to the west blocks by model\n",
    "modelClasses = {STW_C.SEWER_CLASS: 'psvdmSewerTank_Classplus_decay',\n",
    "                STW_C.CATCH_CLASS: 'Catchment_NoRetention_IndirectStormwater',\n",
    "                STW_C.CONN_CLASS: 'Kosim1ToPSVDM_curve_tracerflow_ClassplusViral',\n",
    "                STW_C.COMB_CLASS: 'psvdmTwoCombiner'}\n",
    "\n",
    "\n",
    "#files \n",
    "layoutFile = '01-Data/05-OneBranch157Tanks/OneBranch157Tanks.Layout.xml'\n",
    "layoutFileMod = '02-Output/05-OneBranch157Tanks/OneBranch157TanksMOD.Layout.xml'\n"
   ]
  },
  {
   "cell_type": "code",
   "execution_count": 7,
   "id": "301c4eb9",
   "metadata": {},
   "outputs": [
    {
     "name": "stdout",
     "output_type": "stream",
     "text": [
      "Number of submodels found  238\n",
      "The number of sewers found were  192 , catchments  0 , connectors  0  and combiners  16\n"
     ]
    },
    {
     "ename": "AssertionError",
     "evalue": "The number of combiners is not equal to the number of catchments plus the number of branches",
     "output_type": "error",
     "traceback": [
      "\u001b[1;31m---------------------------------------------------------------------------\u001b[0m",
      "\u001b[1;31mAssertionError\u001b[0m                            Traceback (most recent call last)",
      "Cell \u001b[1;32mIn[7], line 1\u001b[0m\n\u001b[1;32m----> 1\u001b[0m \u001b[43muf\u001b[49m\u001b[38;5;241;43m.\u001b[39;49m\u001b[43mupdateWESTLayoutFile\u001b[49m\u001b[43m(\u001b[49m\u001b[43mlayoutFile\u001b[49m\u001b[43m,\u001b[49m\u001b[43m \u001b[49m\u001b[43mlayoutFileMod\u001b[49m\u001b[43m,\u001b[49m\u001b[43m \u001b[49m\u001b[43mmodelClasses\u001b[49m\u001b[43m,\u001b[49m\u001b[43m \u001b[49m\u001b[43mtrunkModels\u001b[49m\u001b[43m,\u001b[49m\u001b[43m \u001b[49m\u001b[43mbranchesModels\u001b[49m\u001b[43m,\u001b[49m\u001b[43m \u001b[49m\u001b[43mconnectorsDict\u001b[49m\u001b[43m)\u001b[49m\n",
      "File \u001b[1;32mc:\\Users\\lllov\\OneDrive - Université Laval\\Desktop\\01-Repositories\\SWMMtoWEST\\SWMMToWESTConvert\\updateWESTfiles.py:659\u001b[0m, in \u001b[0;36mupdateWESTLayoutFile\u001b[1;34m(layoutXMLPath, layoutXMLPath_MOD, modelClasses, trunkModels, branchesModels, connAttributes)\u001b[0m\n\u001b[0;32m    656\u001b[0m linksXML \u001b[38;5;241m=\u001b[39m root\u001b[38;5;241m.\u001b[39mfind(\u001b[38;5;124m'\u001b[39m\u001b[38;5;124m.//Links\u001b[39m\u001b[38;5;124m'\u001b[39m)\n\u001b[0;32m    658\u001b[0m nTanks \u001b[38;5;241m=\u001b[39m branchesModels[\u001b[38;5;28mlist\u001b[39m(branchesModels\u001b[38;5;241m.\u001b[39mkeys())[\u001b[38;5;241m-\u001b[39m\u001b[38;5;241m1\u001b[39m]][STW_C\u001b[38;5;241m.\u001b[39mPATH][\u001b[38;5;241m-\u001b[39m\u001b[38;5;241m1\u001b[39m][STW_C\u001b[38;5;241m.\u001b[39mTANK_INDEXES][\u001b[38;5;241m-\u001b[39m\u001b[38;5;241m1\u001b[39m] \u001b[38;5;66;03m#The last tank of the last branch\u001b[39;00m\n\u001b[1;32m--> 659\u001b[0m XMLsByType \u001b[38;5;241m=\u001b[39m \u001b[43mgetModelsByTypeAndSetClasses\u001b[49m\u001b[43m(\u001b[49m\u001b[43mroot\u001b[49m\u001b[43m,\u001b[49m\u001b[43m \u001b[49m\u001b[43mmodelClasses\u001b[49m\u001b[43m,\u001b[49m\u001b[43m \u001b[49m\u001b[38;5;28;43mlen\u001b[39;49m\u001b[43m(\u001b[49m\u001b[43mbranchesModels\u001b[49m\u001b[43m)\u001b[49m\u001b[43m,\u001b[49m\u001b[43m \u001b[49m\u001b[43mnTanks\u001b[49m\u001b[43m)\u001b[49m\n\u001b[0;32m    660\u001b[0m combiners \u001b[38;5;241m=\u001b[39m {}\n\u001b[0;32m    662\u001b[0m \u001b[38;5;28;01mfor\u001b[39;00m br \u001b[38;5;129;01min\u001b[39;00m branchesModels\u001b[38;5;241m.\u001b[39mkeys():\n\u001b[0;32m    663\u001b[0m \n\u001b[0;32m    664\u001b[0m     \u001b[38;5;66;03m# Adds the properties of the elements within the branch\u001b[39;00m\n",
      "File \u001b[1;32mc:\\Users\\lllov\\OneDrive - Université Laval\\Desktop\\01-Repositories\\SWMMtoWEST\\SWMMToWESTConvert\\updateWESTfiles.py:569\u001b[0m, in \u001b[0;36mgetModelsByTypeAndSetClasses\u001b[1;34m(root, modelClasses, nBranches, nTanks)\u001b[0m\n\u001b[0;32m    567\u001b[0m \u001b[38;5;28mprint\u001b[39m(\u001b[38;5;124m\"\u001b[39m\u001b[38;5;124mThe number of sewers found were \u001b[39m\u001b[38;5;124m\"\u001b[39m, nSewers, \u001b[38;5;124m\"\u001b[39m\u001b[38;5;124m, catchments \u001b[39m\u001b[38;5;124m\"\u001b[39m, nCatchments, \u001b[38;5;124m\"\u001b[39m\u001b[38;5;124m, connectors \u001b[39m\u001b[38;5;124m\"\u001b[39m, nConnectors, \u001b[38;5;124m\"\u001b[39m\u001b[38;5;124m and combiners \u001b[39m\u001b[38;5;124m\"\u001b[39m, nCombiners)\n\u001b[0;32m    568\u001b[0m \u001b[38;5;28;01massert\u001b[39;00m nCatchments \u001b[38;5;241m==\u001b[39m nConnectors , \u001b[38;5;124mf\u001b[39m\u001b[38;5;124m\"\u001b[39m\u001b[38;5;124mThe number of catchments and connectors model instances are not equal\u001b[39m\u001b[38;5;124m\"\u001b[39m\n\u001b[1;32m--> 569\u001b[0m \u001b[38;5;28;01massert\u001b[39;00m nCombiners \u001b[38;5;241m==\u001b[39m nCatchments \u001b[38;5;241m+\u001b[39m nBranches, \u001b[38;5;124mf\u001b[39m\u001b[38;5;124m\"\u001b[39m\u001b[38;5;124mThe number of combiners is not equal to the number of catchments plus the number of branches\u001b[39m\u001b[38;5;124m\"\u001b[39m\n\u001b[0;32m    570\u001b[0m \u001b[38;5;28;01massert\u001b[39;00m nSewers \u001b[38;5;241m==\u001b[39m nTanks, \u001b[38;5;124mf\u001b[39m\u001b[38;5;124m\"\u001b[39m\u001b[38;5;124mThe number of sewer models is not equal to the number of tank in series\u001b[39m\u001b[38;5;124m\"\u001b[39m\n\u001b[0;32m    572\u001b[0m XMLElements \u001b[38;5;241m=\u001b[39m {}\n",
      "\u001b[1;31mAssertionError\u001b[0m: The number of combiners is not equal to the number of catchments plus the number of branches"
     ]
    }
   ],
   "source": [
    "uf.updateWESTLayoutFile(layoutFile, layoutFileMod, modelClasses, trunkModels, branchesModels, connectorsDict)"
   ]
  },
  {
   "cell_type": "markdown",
   "id": "855e3523",
   "metadata": {},
   "source": [
    "# Find trunk pipe from entire network"
   ]
  },
  {
   "cell_type": "code",
   "execution_count": null,
   "id": "ad51e4a3",
   "metadata": {},
   "outputs": [],
   "source": [
    "import SWMMToWESTConvert.findPaths as fp\n",
    "import SWMMToWESTConvert.getNetworkFromSWMM as gnfs\n",
    "\n",
    "file = 'DWF2022.inp' \n",
    "\n",
    "linksN = gnfs.getsNetworksLinks(file)\n",
    "\n",
    "outFile = gnfs.getSimulationResultsFile(file)\n",
    "\n",
    "trunkCalculatedDF= fp.findMainFlowPath(WTP_TANK,outFile,linksN)"
   ]
  },
  {
   "cell_type": "markdown",
   "id": "c7c57dc0",
   "metadata": {},
   "source": [
    "TESTS!!"
   ]
  },
  {
   "cell_type": "code",
   "execution_count": null,
   "id": "a8c10bf9",
   "metadata": {},
   "outputs": [
    {
     "name": "stdout",
     "output_type": "stream",
     "text": [
      "There were  0 DFs with other constituents than FLOW\n"
     ]
    },
    {
     "data": {
      "text/html": [
       "<div>\n",
       "<style scoped>\n",
       "    .dataframe tbody tr th:only-of-type {\n",
       "        vertical-align: middle;\n",
       "    }\n",
       "\n",
       "    .dataframe tbody tr th {\n",
       "        vertical-align: top;\n",
       "    }\n",
       "\n",
       "    .dataframe thead th {\n",
       "        text-align: right;\n",
       "    }\n",
       "</style>\n",
       "<table border=\"1\" class=\"dataframe\">\n",
       "  <thead>\n",
       "    <tr style=\"text-align: right;\">\n",
       "      <th></th>\n",
       "      <th>Time Series</th>\n",
       "      <th>Sfactor</th>\n",
       "      <th>Baseline</th>\n",
       "    </tr>\n",
       "    <tr>\n",
       "      <th>Node</th>\n",
       "      <th></th>\n",
       "      <th></th>\n",
       "      <th></th>\n",
       "    </tr>\n",
       "  </thead>\n",
       "  <tbody>\n",
       "    <tr>\n",
       "      <th>1_144</th>\n",
       "      <td>NaN</td>\n",
       "      <td>1</td>\n",
       "      <td>0.003000</td>\n",
       "    </tr>\n",
       "    <tr>\n",
       "      <th>1_156</th>\n",
       "      <td>NaN</td>\n",
       "      <td>1</td>\n",
       "      <td>0.003453</td>\n",
       "    </tr>\n",
       "    <tr>\n",
       "      <th>1_198</th>\n",
       "      <td>NaN</td>\n",
       "      <td>1</td>\n",
       "      <td>0.001100</td>\n",
       "    </tr>\n",
       "    <tr>\n",
       "      <th>1_210</th>\n",
       "      <td>NaN</td>\n",
       "      <td>1</td>\n",
       "      <td>0.009281</td>\n",
       "    </tr>\n",
       "    <tr>\n",
       "      <th>1_218</th>\n",
       "      <td>NaN</td>\n",
       "      <td>1</td>\n",
       "      <td>0.005200</td>\n",
       "    </tr>\n",
       "    <tr>\n",
       "      <th>...</th>\n",
       "      <td>...</td>\n",
       "      <td>...</td>\n",
       "      <td>...</td>\n",
       "    </tr>\n",
       "    <tr>\n",
       "      <th>RA_11071</th>\n",
       "      <td>NaN</td>\n",
       "      <td>1</td>\n",
       "      <td>0.000001</td>\n",
       "    </tr>\n",
       "    <tr>\n",
       "      <th>RA_14614</th>\n",
       "      <td>NaN</td>\n",
       "      <td>1</td>\n",
       "      <td>0.000001</td>\n",
       "    </tr>\n",
       "    <tr>\n",
       "      <th>RA_207381</th>\n",
       "      <td>NaN</td>\n",
       "      <td>1</td>\n",
       "      <td>0.000001</td>\n",
       "    </tr>\n",
       "    <tr>\n",
       "      <th>RA_276200</th>\n",
       "      <td>NaN</td>\n",
       "      <td>1</td>\n",
       "      <td>0.000001</td>\n",
       "    </tr>\n",
       "    <tr>\n",
       "      <th>RA_9306</th>\n",
       "      <td>NaN</td>\n",
       "      <td>1</td>\n",
       "      <td>0.000900</td>\n",
       "    </tr>\n",
       "  </tbody>\n",
       "</table>\n",
       "<p>133 rows × 3 columns</p>\n",
       "</div>"
      ],
      "text/plain": [
       "           Time Series  Sfactor  Baseline\n",
       "Node                                     \n",
       "1_144              NaN        1  0.003000\n",
       "1_156              NaN        1  0.003453\n",
       "1_198              NaN        1  0.001100\n",
       "1_210              NaN        1  0.009281\n",
       "1_218              NaN        1  0.005200\n",
       "...                ...      ...       ...\n",
       "RA_11071           NaN        1  0.000001\n",
       "RA_14614           NaN        1  0.000001\n",
       "RA_207381          NaN        1  0.000001\n",
       "RA_276200          NaN        1  0.000001\n",
       "RA_9306            NaN        1  0.000900\n",
       "\n",
       "[133 rows x 3 columns]"
      ]
     },
     "metadata": {},
     "output_type": "display_data"
    },
    {
     "data": {
      "text/html": [
       "<div>\n",
       "<style scoped>\n",
       "    .dataframe tbody tr th:only-of-type {\n",
       "        vertical-align: middle;\n",
       "    }\n",
       "\n",
       "    .dataframe tbody tr th {\n",
       "        vertical-align: top;\n",
       "    }\n",
       "\n",
       "    .dataframe thead th {\n",
       "        text-align: right;\n",
       "    }\n",
       "</style>\n",
       "<table border=\"1\" class=\"dataframe\">\n",
       "  <thead>\n",
       "    <tr style=\"text-align: right;\">\n",
       "      <th></th>\n",
       "      <th>Date</th>\n",
       "      <th>Time</th>\n",
       "      <th>Value</th>\n",
       "    </tr>\n",
       "    <tr>\n",
       "      <th>Name</th>\n",
       "      <th></th>\n",
       "      <th></th>\n",
       "      <th></th>\n",
       "    </tr>\n",
       "  </thead>\n",
       "  <tbody>\n",
       "  </tbody>\n",
       "</table>\n",
       "</div>"
      ],
      "text/plain": [
       "Empty DataFrame\n",
       "Columns: [Date, Time, Value]\n",
       "Index: []"
      ]
     },
     "metadata": {},
     "output_type": "display_data"
    }
   ],
   "source": [
    "\n",
    "import SWMMToWESTConvert.getNetworkFromSWMM as gnfs\n",
    "import swmmio\n",
    "\n",
    "file = 'DWF2022.inp' \n",
    "\n",
    "model = swmmio.Model(file)\n",
    "\n",
    "dflows, dflowsTimeseries  = gnfs.getWaterDirectFlows(model)\n",
    "\n",
    "display(dflows)\n",
    "display(dflowsTimeseries)"
   ]
  }
 ],
 "metadata": {
  "kernelspec": {
   "display_name": "Python 3 (ipykernel)",
   "language": "python",
   "name": "python3"
  },
  "language_info": {
   "codemirror_mode": {
    "name": "ipython",
    "version": 3
   },
   "file_extension": ".py",
   "mimetype": "text/x-python",
   "name": "python",
   "nbconvert_exporter": "python",
   "pygments_lexer": "ipython3",
   "version": "3.10.0rc2"
  }
 },
 "nbformat": 4,
 "nbformat_minor": 5
}
